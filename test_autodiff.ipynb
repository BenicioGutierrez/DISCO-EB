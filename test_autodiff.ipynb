{
 "cells": [
  {
   "cell_type": "code",
   "execution_count": null,
   "metadata": {},
   "outputs": [],
   "source": [
    "import jax\n",
    "import numpy as np\n",
    "import jax.numpy as jnp\n",
    "import equinox as eqx\n",
    "from pylinger_cosmo import cosmo\n",
    "from pylinger_pt_single_mode_exposed_param import evolve_one_mode, adiabatic_ics\n"
   ]
  },
  {
   "cell_type": "code",
   "execution_count": null,
   "metadata": {},
   "outputs": [],
   "source": [
    "## Cosmological Parameters\n",
    "Tcmb = 2.7255\n",
    "YHe = 0.248\n",
    "Omegam = 0.276\n",
    "Omegab = 0.0455\n",
    "OmegaL = 1.0-Omegam\n",
    "num_massive_neutrinos = 1\n",
    "mnu=0.06 #eV\n",
    "Neff=2.046 # -1 if massive neutrino present\n",
    "standard_neutrino_neff=Neff+num_massive_neutrinos\n",
    "h = 0.703\n",
    "A_s = 2.1e-9\n",
    "n_s = 0.965\n",
    "k_p = 0.05"
   ]
  },
  {
   "cell_type": "code",
   "execution_count": null,
   "metadata": {},
   "outputs": [],
   "source": [
    "@eqx.filter_jit\n",
    "def f_of_Omegam( Omegam ):\n",
    "    # Compute Background\n",
    "    cp = cosmo(Omegam=Omegam, Omegab=Omegab, OmegaL=OmegaL, H0=100*h, Tcmb=Tcmb, YHe=YHe, Neff=Neff, Nmnu=num_massive_neutrinos, mnu=mnu )\n",
    "    \n",
    "    # Compute Perturbations\n",
    "    lmaxg  = 12\n",
    "    lmaxgp = 12\n",
    "    lmaxr  = 17\n",
    "    lmaxnu = 17\n",
    "    nqmax  = 15\n",
    "    nvar   = 7 + (lmaxg + 1) + (lmaxgp + 1) + (lmaxr + 1) + nqmax * (lmaxnu + 1)\n",
    "    rtol   = 1e-3\n",
    "    atol   = 1e-4\n",
    "\n",
    "    tau_start = 0.01\n",
    "    tau_max   = 1.0\n",
    "    \n",
    "    kmode  = 1e-1\n",
    "\n",
    "    y0 = adiabatic_ics( omegam=Omegam, omegab=Omegab, tau=tau_start, param=cp.param, kmodes=jnp.array([kmode]), num_k=1, nvar=nvar, \n",
    "                       lmaxg=lmaxg, lmaxgp=lmaxgp, lmaxr=lmaxr, lmaxnu=lmaxnu, nqmax=nqmax )\n",
    "    \n",
    "    y1 = evolve_one_mode( y0=y0[-1,:], tau_start=tau_start, tau_max=tau_max, tau_out=jnp.array([tau_max]), omegam=Omegam, omegab=Omegab, \n",
    "                        param=cp.param, kmode=kmode, lmaxg=lmaxg, lmaxgp=lmaxgp, lmaxr=lmaxr, lmaxnu=lmaxnu, nqmax=nqmax, rtol=rtol, atol=atol )\n",
    "    \n",
    "    # everything works if y0 is returned here\n",
    "    return y1"
   ]
  },
  {
   "cell_type": "code",
   "execution_count": null,
   "metadata": {},
   "outputs": [],
   "source": [
    "dP = jax.jacrev( f_of_Omegam )"
   ]
  },
  {
   "cell_type": "code",
   "execution_count": null,
   "metadata": {},
   "outputs": [],
   "source": [
    "print( dP( Omegam ) )"
   ]
  },
  {
   "cell_type": "code",
   "execution_count": null,
   "metadata": {},
   "outputs": [],
   "source": []
  }
 ],
 "metadata": {
  "kernelspec": {
   "display_name": "Python 3",
   "language": "python",
   "name": "python3"
  },
  "language_info": {
   "codemirror_mode": {
    "name": "ipython",
    "version": 3
   },
   "file_extension": ".py",
   "mimetype": "text/x-python",
   "name": "python",
   "nbconvert_exporter": "python",
   "pygments_lexer": "ipython3",
   "version": "3.10.6"
  },
  "orig_nbformat": 4
 },
 "nbformat": 4,
 "nbformat_minor": 2
}
