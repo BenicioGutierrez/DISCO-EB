{
 "cells": [
  {
   "cell_type": "markdown",
   "metadata": {},
   "source": [
    "# Minimal Example"
   ]
  },
  {
   "cell_type": "code",
   "execution_count": 3,
   "metadata": {},
   "outputs": [],
   "source": [
    "import jax\n",
    "jax.config.update(\"jax_enable_x64\", True) # unfortunately we currently require double precision\n",
    "import jax.numpy as jnp\n",
    "import matplotlib.pyplot as plt\n",
    "%matplotlib widget\n",
    "\n",
    "import discoeb"
   ]
  },
  {
   "cell_type": "code",
   "execution_count": 4,
   "metadata": {},
   "outputs": [
    {
     "ename": "NameError",
     "evalue": "name 'Union' is not defined",
     "output_type": "error",
     "traceback": [
      "\u001b[1;31m---------------------------------------------------------------------------\u001b[0m",
      "\u001b[1;31mNameError\u001b[0m                                 Traceback (most recent call last)",
      "Cell \u001b[1;32mIn[4], line 3\u001b[0m\n\u001b[0;32m      1\u001b[0m \u001b[38;5;66;03m## these are the main modules for background evolution and perturbation evolution\u001b[39;00m\n\u001b[1;32m----> 3\u001b[0m \u001b[38;5;28;01mfrom\u001b[39;00m \u001b[38;5;21;01mdiscoeb\u001b[39;00m\u001b[38;5;21;01m.\u001b[39;00m\u001b[38;5;21;01mbackground\u001b[39;00m \u001b[38;5;28;01mimport\u001b[39;00m evolve_background\n\u001b[0;32m      4\u001b[0m \u001b[38;5;28;01mfrom\u001b[39;00m \u001b[38;5;21;01mdiscoeb\u001b[39;00m\u001b[38;5;21;01m.\u001b[39;00m\u001b[38;5;21;01mperturbations\u001b[39;00m \u001b[38;5;28;01mimport\u001b[39;00m evolve_perturbations, get_power\n",
      "File \u001b[1;32m~\\anaconda3\\lib\\site-packages\\discoeb\\background.py:12\u001b[0m\n\u001b[0;32m      8\u001b[0m \u001b[38;5;28;01mfrom\u001b[39;00m \u001b[38;5;21;01mjax_cosmo\u001b[39;00m\u001b[38;5;21;01m.\u001b[39;00m\u001b[38;5;21;01mscipy\u001b[39;00m\u001b[38;5;21;01m.\u001b[39;00m\u001b[38;5;21;01mintegrate\u001b[39;00m \u001b[38;5;28;01mimport\u001b[39;00m romb\n\u001b[0;32m      9\u001b[0m \u001b[38;5;28;01mfrom\u001b[39;00m \u001b[38;5;21;01mfunctools\u001b[39;00m \u001b[38;5;28;01mimport\u001b[39;00m partial\n\u001b[1;32m---> 12\u001b[0m \u001b[38;5;28;01mdef\u001b[39;00m \u001b[38;5;21ma_of_tau\u001b[39m(tau_: \u001b[43mUnion\u001b[49m[\u001b[38;5;28mfloat\u001b[39m, jax\u001b[38;5;241m.\u001b[39mArray], param: \u001b[38;5;28mdict\u001b[39m) \u001b[38;5;241m-\u001b[39m\u001b[38;5;241m>\u001b[39m Union[\u001b[38;5;28mfloat\u001b[39m, jax\u001b[38;5;241m.\u001b[39mArray]:\n\u001b[0;32m     13\u001b[0m     a, _, _, _ \u001b[38;5;241m=\u001b[39m param[\u001b[38;5;124m'\u001b[39m\u001b[38;5;124msol\u001b[39m\u001b[38;5;124m'\u001b[39m]\u001b[38;5;241m.\u001b[39mevaluate(tau_)\n\u001b[0;32m     14\u001b[0m     \u001b[38;5;28;01mreturn\u001b[39;00m a\n",
      "\u001b[1;31mNameError\u001b[0m: name 'Union' is not defined"
     ]
    }
   ],
   "source": [
    "## these are the main modules for background evolution and perturbation evolution\n",
    "\n",
    "from discoeb.background import evolve_background\n",
    "from discoeb.perturbations import evolve_perturbations, get_power"
   ]
  },
  {
   "cell_type": "code",
   "execution_count": null,
   "metadata": {},
   "outputs": [],
   "source": [
    "# @jax.jit\n",
    "def compute_matter_power( Omegam=0.3099 ):\n",
    "\n",
    "  ## Set the Cosmological Parameters\n",
    "  # insert parameters into a dictionary\n",
    "  param = {}\n",
    "  # OmegaDE is inferred since flatness is assumed currently\n",
    "  param['Omegam']  = Omegam            # Total matter density parameter\n",
    "  param['Omegab']  = 0.0488911         # Baryon density parameter\n",
    "  param['w_DE_0']  = -0.99             # Dark energy equation of state parameter today\n",
    "  param['w_DE_a']  = 0.0               # Dark energy equation of state parameter time derivative\n",
    "  param['cs2_DE']  = 1.0               # Dark energy sound speed squared\n",
    "  param['Omegak']  = 0.0\n",
    "  param['A_s']     = 2.1064e-09        # Scalar amplitude of the primordial power spectrum\n",
    "  param['n_s']     = 0.96822           # Scalar spectral index\n",
    "  param['H0']      = 67.742            # Hubble constant today in units of 100 km/s/Mpc\n",
    "  param['Tcmb']    = 2.7255            # CMB temperature today in K\n",
    "  param['YHe']     = 0.248             # Helium mass fraction\n",
    "  param['Neff']    = 2.046             # Effective number of ultrarelativistic neutrinos\n",
    "                                      # -1 if massive neutrino present\n",
    "  param['Nmnu']    = 1                 # Number of massive neutrinos (must be 1 currently)\n",
    "  param['mnu']     = 0.06              # Sum of neutrino masses in eV \n",
    "  param['k_p']     = 0.05              # Pivot scale in 1/Mpc\n",
    "\n",
    "  # modes to sample\n",
    "  nmodes = 64                 # number of modes to sample\n",
    "  kmin   = 1e-3               # minimum k in 1/Mpc\n",
    "  kmax   = 1e+0               # maximum k in 1/Mpc\n",
    "  aexp   = 1.0                # scale factor at which to evaluate the power spectrum\n",
    "\n",
    "  ## Compute Background+thermal evolution\n",
    "  param = evolve_background(param=param, thermo_module='RECFAST')\n",
    "\n",
    "  # compute perturbation evolution\n",
    "  aexp_out = jnp.array([aexp])\n",
    "  y, kmodes = evolve_perturbations( param=param, kmin=kmin, kmax=kmax, num_k=nmodes, aexp_out=aexp_out, \n",
    "                                    rtol=1e-4, atol=1e-4 )\n",
    "  \n",
    "  # turn perturbations into power spectra\n",
    "  Pkm = get_power( k=kmodes, y=y[:,0,:], idx=4, param=param )\n",
    "\n",
    "  return Pkm, kmodes"
   ]
  },
  {
   "cell_type": "markdown",
   "metadata": {},
   "source": [
    "## Compute and plot the matter power spectrum"
   ]
  },
  {
   "cell_type": "code",
   "execution_count": null,
   "metadata": {},
   "outputs": [],
   "source": [
    "# might take a minute to compile on first run, 10s on rerun\n",
    "Omegam_fid = 0.3099\n",
    "Pkm, kmodes = compute_matter_power( Omegam_fid )"
   ]
  },
  {
   "cell_type": "code",
   "execution_count": null,
   "metadata": {},
   "outputs": [],
   "source": [
    "fig, ax = plt.subplots()\n",
    "\n",
    "ax.plot(kmodes, Pkm, label='delta_m')\n",
    "ax.loglog()\n",
    "ax.set_xlabel(r'$k$')\n",
    "ax.set_ylabel(r'$P(k)$')"
   ]
  },
  {
   "cell_type": "markdown",
   "metadata": {},
   "source": [
    "## Compute and plot the derivative of $P_m$ w.r.t. $\\Omega_m$"
   ]
  },
  {
   "cell_type": "code",
   "execution_count": null,
   "metadata": {},
   "outputs": [],
   "source": [
    "diff_matter_power = jax.jacfwd( compute_matter_power )\n",
    "dPkm,_ = diff_matter_power( Omegam_fid )"
   ]
  },
  {
   "cell_type": "code",
   "execution_count": null,
   "metadata": {},
   "outputs": [],
   "source": [
    "fig, ax = plt.subplots()\n",
    "\n",
    "ax.semilogx(kmodes, Omegam_fid * dPkm / Pkm, label='delta_m')\n",
    "ax.set_xlabel(r'$k$')\n",
    "ax.set_ylabel(r'$\\partial \\log P(k)/\\partial \\log \\Omega_m$')"
   ]
  },
  {
   "cell_type": "code",
   "execution_count": null,
   "metadata": {},
   "outputs": [],
   "source": []
  }
 ],
 "metadata": {
  "kernelspec": {
   "display_name": "Python 3 (ipykernel)",
   "language": "python",
   "name": "python3"
  },
  "language_info": {
   "codemirror_mode": {
    "name": "ipython",
    "version": 3
   },
   "file_extension": ".py",
   "mimetype": "text/x-python",
   "name": "python",
   "nbconvert_exporter": "python",
   "pygments_lexer": "ipython3",
   "version": "3.9.19"
  }
 },
 "nbformat": 4,
 "nbformat_minor": 4
}
