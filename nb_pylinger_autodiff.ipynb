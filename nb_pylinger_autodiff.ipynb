{
 "cells": [
  {
   "cell_type": "code",
   "execution_count": 1,
   "metadata": {},
   "outputs": [],
   "source": [
    "import jax\n",
    "import numpy as np\n",
    "import jax.numpy as jnp\n",
    "import equinox as eqx\n",
    "import diffrax\n",
    "jax.config.update(\"jax_enable_x64\", True)\n",
    "# jax.config.update('jax_platform_name', 'cpu')\n",
    "# jax.config.update(\"jax_debug_nans\", True)\n",
    "# jax.config.update(\"jax_disable_jit\", True)\n",
    "from pylinger_background import evolve_background\n",
    "from pylinger_perturbations import evolve_one_mode\n"
   ]
  },
  {
   "cell_type": "code",
   "execution_count": 2,
   "metadata": {},
   "outputs": [],
   "source": [
    "## Cosmological Parameters\n",
    "Tcmb = 2.7255\n",
    "YHe = 0.248\n",
    "Omegam = 0.276\n",
    "Omegab = 0.0455\n",
    "OmegaL = 1.0-Omegam\n",
    "num_massive_neutrinos = 1\n",
    "mnu=0.06 #eV\n",
    "Neff=2.046 # -1 if massive neutrino present\n",
    "standard_neutrino_neff=Neff+num_massive_neutrinos\n",
    "h = 0.703\n",
    "A_s = 2.1e-9\n",
    "n_s = 0.965\n",
    "k_p = 0.05"
   ]
  },
  {
   "cell_type": "code",
   "execution_count": 3,
   "metadata": {},
   "outputs": [],
   "source": [
    "# @eqx.filter_jit\n",
    "def f_of_Omegam( args ):\n",
    "    param = {}\n",
    "    param['Omegam'] = args[0]\n",
    "    param['Omegab'] = args[1]\n",
    "    param['OmegaL'] = OmegaL\n",
    "    param['Omegak'] = 0.0\n",
    "    param['A_s'] = A_s\n",
    "    param['n_s'] = n_s\n",
    "    param['H0'] = 100*h\n",
    "    param['Tcmb'] = Tcmb\n",
    "    param['YHe'] = YHe\n",
    "    param['Neff'] = Neff\n",
    "    param['Nmnu'] = num_massive_neutrinos\n",
    "    param['mnu'] = mnu\n",
    "    param = evolve_background(param=param)\n",
    "    \n",
    "    k = 1e-2\n",
    "\n",
    "    # Compute Perturbations\n",
    "    lmaxg  = 12\n",
    "    lmaxgp = 12\n",
    "    lmaxr  = 17\n",
    "    lmaxnu = 17\n",
    "    nqmax  = 15\n",
    "\n",
    "    rtol   = 1e-3\n",
    "    atol   = 1e-4\n",
    "\n",
    "    y = evolve_one_mode( tau_max=1.0, tau_out=jnp.array([1.0]), \n",
    "                      param=param, kmode=k, lmaxg=lmaxg, lmaxgp=lmaxgp, lmaxr=lmaxr, \n",
    "                      lmaxnu=lmaxnu, nqmax=nqmax, rtol=rtol, atol=atol )\n",
    "    \n",
    "    return y"
   ]
  },
  {
   "cell_type": "code",
   "execution_count": 4,
   "metadata": {},
   "outputs": [],
   "source": [
    "# f_of_Omegam(0.273)"
   ]
  },
  {
   "cell_type": "code",
   "execution_count": 5,
   "metadata": {},
   "outputs": [
    {
     "name": "stdout",
     "output_type": "stream",
     "text": [
      "[[[ 1.37446120e-08  5.25311904e-30]\n",
      "  [ 4.57971641e-13 -2.76063220e-18]\n",
      "  [ 3.11128386e-05 -3.80690732e-10]\n",
      "  [-2.12000171e-07  1.27647855e-13]\n",
      "  [ 4.43773433e-24 -3.16322136e-25]\n",
      "  [-2.11999816e-07  3.13073662e-12]\n",
      "  [-1.77244928e-12 -1.50107967e-11]\n",
      "  [-2.82666421e-07  4.17431572e-12]\n",
      "  [-1.77244883e-12 -1.50107979e-11]\n",
      "  [ 0.00000000e+00  0.00000000e+00]\n",
      "  [ 0.00000000e+00  0.00000000e+00]\n",
      "  [ 0.00000000e+00  0.00000000e+00]\n",
      "  [ 0.00000000e+00  0.00000000e+00]\n",
      "  [ 0.00000000e+00  0.00000000e+00]\n",
      "  [ 0.00000000e+00  0.00000000e+00]\n",
      "  [ 0.00000000e+00  0.00000000e+00]\n",
      "  [ 0.00000000e+00  0.00000000e+00]\n",
      "  [ 0.00000000e+00  0.00000000e+00]\n",
      "  [ 0.00000000e+00  0.00000000e+00]\n",
      "  [ 0.00000000e+00  0.00000000e+00]\n",
      "  [ 0.00000000e+00  0.00000000e+00]\n",
      "  [ 0.00000000e+00  0.00000000e+00]\n",
      "  [ 0.00000000e+00  0.00000000e+00]\n",
      "  [ 0.00000000e+00  0.00000000e+00]\n",
      "  [ 0.00000000e+00  0.00000000e+00]\n",
      "  [ 0.00000000e+00  0.00000000e+00]\n",
      "  [ 0.00000000e+00  0.00000000e+00]\n",
      "  [ 0.00000000e+00  0.00000000e+00]\n",
      "  [ 0.00000000e+00  0.00000000e+00]\n",
      "  [ 0.00000000e+00  0.00000000e+00]\n",
      "  [ 0.00000000e+00  0.00000000e+00]\n",
      "  [ 0.00000000e+00  0.00000000e+00]\n",
      "  [ 0.00000000e+00  0.00000000e+00]\n",
      "  [-2.82666360e-07  1.67859489e-13]\n",
      "  [-2.00135742e-12  8.34280756e-15]\n",
      "  [ 1.83480020e-08 -6.09171413e-10]\n",
      "  [ 1.97638567e-11 -7.15038338e-13]\n",
      "  [ 1.77010162e-14 -6.67862997e-16]\n",
      "  [ 1.35561815e-17 -5.08262769e-19]\n",
      "  [ 9.09190784e-21 -3.36391901e-22]\n",
      "  [ 5.49086684e-24 -2.14073056e-25]\n",
      "  [ 3.12591867e-27 -1.48384647e-28]\n",
      "  [ 1.81710929e-30 -1.19652598e-31]\n",
      "  [ 1.18952721e-33 -1.06544264e-34]\n",
      "  [ 9.08481762e-37 -9.60737100e-38]\n",
      "  [ 7.61683309e-40 -8.35071698e-41]\n",
      "  [ 6.47948440e-43 -6.88991199e-44]\n",
      "  [ 5.35254530e-46 -5.39665570e-47]\n",
      "  [ 4.23131817e-49 -4.03394849e-50]\n",
      "  [ 3.19779008e-52 -2.89553180e-53]\n",
      "  [ 1.26747567e-55 -1.13292783e-56]\n",
      "  [-2.82297338e-07  1.67640797e-13]\n",
      "  [-1.99875532e-12  8.33179290e-15]\n",
      "  [ 9.52904351e-09 -3.02389086e-10]]]\n"
     ]
    }
   ],
   "source": [
    "dP = jax.jacfwd( f_of_Omegam )\n",
    "print( dP( jnp.array([Omegam, Omegab]) ) )"
   ]
  },
  {
   "cell_type": "code",
   "execution_count": null,
   "metadata": {},
   "outputs": [],
   "source": []
  }
 ],
 "metadata": {
  "kernelspec": {
   "display_name": "Python 3",
   "language": "python",
   "name": "python3"
  },
  "language_info": {
   "codemirror_mode": {
    "name": "ipython",
    "version": 3
   },
   "file_extension": ".py",
   "mimetype": "text/x-python",
   "name": "python",
   "nbconvert_exporter": "python",
   "pygments_lexer": "ipython3",
   "version": "3.9.17"
  },
  "orig_nbformat": 4
 },
 "nbformat": 4,
 "nbformat_minor": 2
}
